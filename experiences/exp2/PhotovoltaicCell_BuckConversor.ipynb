{
 "cells": [
  {
   "cell_type": "markdown",
   "metadata": {},
   "source": [
    "# Expirence 2"
   ]
  },
  {
   "cell_type": "markdown",
   "metadata": {},
   "source": [
    "# Introduction\n",
    "\n",
    "## Differential Equations\n",
    "\n",
    "\\begin{equation}\n",
    "\\frac{di_1(t)}{dt}=D(t)\\frac{v_1(t)}{L}-\\frac{v_0(t)}{L}\n",
    "\\end{equation}\n",
    "\n",
    "\\begin{equation}\n",
    "\\frac{dv_0(t)}{dt}=D(t)\\frac{i_1(t)}{C}-\\frac{v_0(t)}{RC}\n",
    "\\end{equation}\n",
    "\n",
    "### First equation in discreet format\n",
    "\n",
    "\\begin{equation}\n",
    "\\frac{i_1[t+step] - i_1[t]}{step}= D[t]\\frac{v_1[t]}{L}-\\frac{v_0[t]}{L}\n",
    "\\end{equation}\n",
    " \n",
    "\\begin{equation}\n",
    "i_1[t+step]  = i_1[t] + step\\cdot \\left(D[t]\\frac{v_1[t]}{L}-\\frac{v_0[t]}{L}\\right)\n",
    "\\end{equation}\n",
    "\n",
    "### Second equation in discreet format\n",
    "\\begin{equation}\n",
    "\\frac{v_0[t+step] - v_0[t]}{step}=\\frac{i_1(t)}{C}-\\frac{v_0(t)}{RC}\n",
    "\\end{equation}\n",
    "\\begin{equation}\n",
    "v_0[t+step] = v_0[t] + step\\left(\\frac{i_1(t)}{C}-\\frac{v_0(t)}{RC}\\right)\n",
    "\\end{equation}\n",
    "\n",
    "## Differential Equations Discreet\n",
    "\n",
    "\\begin{equation}\n",
    "i_1[t+step]  = i_1[t] + step\\cdot \\left(D[t]\\frac{v_1[t]}{L}-\\frac{v_0[t]}{L}\\right)\n",
    "\\end{equation}\n",
    "\n",
    "\\begin{equation}\n",
    "v_0[t+step] = v_0[t] + step\\left(\\frac{i_1(t)}{C}-\\frac{v_0(t)}{RC}\\right)\n",
    "\\end{equation} "
   ]
  },
  {
   "cell_type": "markdown",
   "metadata": {},
   "source": [
    "# 1a\n",
    "## Dependencies"
   ]
  },
  {
   "cell_type": "code",
   "execution_count": null,
   "metadata": {},
   "outputs": [],
   "source": [
    "import math\n",
    "import numpy as np\n",
    "from scipy.optimize import fsolve\n",
    "\n",
    "# Analysis and plotting modules\n",
    "import pandas as pd\n",
    "import plotly\n",
    "\n",
    "\n",
    "# cadCAD configuration modules\n",
    "from cadCAD.configuration.utils import config_sim\n",
    "from cadCAD.configuration import Experiment\n",
    "from cadCAD import configs\n",
    "\n",
    "# cadCAD simulation engine modules\n",
    "from cadCAD.engine import ExecutionMode, ExecutionContext\n",
    "from cadCAD.engine import Executor\n",
    "\n",
    "\n",
    "\n",
    "pd.options.plotting.backend = \"plotly\""
   ]
  },
  {
   "cell_type": "markdown",
   "metadata": {},
   "source": [
    "## State Variables"
   ]
  },
  {
   "cell_type": "code",
   "execution_count": null,
   "metadata": {},
   "outputs": [],
   "source": [
    "initial_state = {\n",
    "    'i_1': 0, #A\n",
    "    'v_o': 0, #V\n",
    "    'D': 0.5  #abs\n",
    "}\n",
    "\n",
    "initial_state"
   ]
  },
  {
   "cell_type": "code",
   "execution_count": null,
   "metadata": {},
   "outputs": [],
   "source": [
    "system_params = {\n",
    "    'step': [0.000001],              #1μs\n",
    "    'R': [1],                        #ohms\n",
    "    'L': [math.pow(10,-3)],          #H\n",
    "    'C': [800*math.pow(10,-6)],      #F\n",
    "    'vi': [1],                       #V\n",
    "    'fs': [5 * math.pow(10,3)],       #5kHz\n",
    "    'Rsh': [38.17],                  #ohms\n",
    "    'Rs': [61.3*math.pow(10,-3)],    #ohms\n",
    "    'beta': [86.14 * math.pow(10,-6)], #V/K\n",
    "    'n': [1.7536],                   #abs\n",
    "    'Is': [5.68*math.pow(10,-6)],    #A\n",
    "    'Iphn': [3.1656],                #A\n",
    "    'Gn': [math.pow(10,3)],          #W/m2\n",
    "    'T': [298]                       #°K\n",
    "}\n",
    "\n",
    "\n",
    "system_params"
   ]
  },
  {
   "cell_type": "markdown",
   "metadata": {},
   "source": [
    "## State Update Functions"
   ]
  },
  {
   "cell_type": "code",
   "execution_count": null,
   "metadata": {},
   "outputs": [],
   "source": [
    "def s_duty_cycle_a(params, substep, state_history, previous_state, policy_input):\n",
    "    t = previous_state['timestep']*params['step']\n",
    "    freq = params['fs']\n",
    "    period = 1/freq\n",
    "    dutycicle = 0.5\n",
    "    if (t%period) < (period*dutycicle):\n",
    "        pwm = 1\n",
    "    else:\n",
    "        pwm = 0\n",
    "    return 'D', pwm\n",
    "\n",
    "\n",
    "def s_i1(params, substep, state_history, previous_state, policy_input):\n",
    "    L = params['L']\n",
    "    vi = params['vi']\n",
    "    step = params['step']\n",
    "    i1 = previous_state['i_1'] + step*((previous_state['D'] * vi / L) - (previous_state['v_o']/L))\n",
    "    return 'i_1', i1\n",
    "\n",
    "def s_vo(params, substep, state_history, previous_state, policy_input):\n",
    "    C = params['C']\n",
    "    R = params['R']\n",
    "    step = params['step']\n",
    "    vo = previous_state['v_o'] + step*((previous_state['i_1']/C) - (previous_state['v_o']/(R*C)))\n",
    "    return 'v_o', vo"
   ]
  },
  {
   "cell_type": "markdown",
   "metadata": {},
   "source": [
    "## Partial State Update Blocks"
   ]
  },
  {
   "cell_type": "code",
   "execution_count": null,
   "metadata": {},
   "outputs": [],
   "source": [
    "partial_state_update_blocks = [\n",
    "    {\n",
    "        'policies': {},\n",
    "        'variables': {\n",
    "            'D': s_duty_cycle_a,\n",
    "            'i_1': s_i1,\n",
    "            'v_o': s_vo\n",
    "        }\n",
    "    }\n",
    "]"
   ]
  },
  {
   "cell_type": "markdown",
   "metadata": {},
   "source": [
    "## Configuration"
   ]
  },
  {
   "cell_type": "code",
   "execution_count": null,
   "metadata": {},
   "outputs": [],
   "source": [
    "sim_config = config_sim({\n",
    "    \"N\": 1,\n",
    "    \"T\": range(20000),\n",
    "    \"M\": system_params\n",
    "})\n",
    "\n",
    "del configs[:] # Clear any prior configs\n",
    "experiment = Experiment()\n",
    "experiment.append_configs(\n",
    "    initial_state = initial_state,\n",
    "    partial_state_update_blocks = partial_state_update_blocks,\n",
    "    sim_configs = sim_config\n",
    ")\n",
    "configs[-1].__dict__"
   ]
  },
  {
   "cell_type": "markdown",
   "metadata": {},
   "source": [
    "## Execution"
   ]
  },
  {
   "cell_type": "code",
   "execution_count": null,
   "metadata": {},
   "outputs": [],
   "source": [
    "exec_context = ExecutionContext()\n",
    "simulation = Executor(exec_context=exec_context, configs=configs)\n",
    "raw_result, tensor_field, sessions = simulation.execute()"
   ]
  },
  {
   "cell_type": "markdown",
   "metadata": {},
   "source": [
    "## Simulation Output Preparation"
   ]
  },
  {
   "cell_type": "code",
   "execution_count": null,
   "metadata": {},
   "outputs": [],
   "source": [
    "simulation_result = pd.DataFrame(raw_result)\n",
    "simulation_result['time'] = simulation_result['timestep'] * system_params['step'][0]\n",
    "simulation_result.head()"
   ]
  },
  {
   "cell_type": "markdown",
   "metadata": {},
   "source": [
    "## Simulation Analysis"
   ]
  },
  {
   "cell_type": "code",
   "execution_count": null,
   "metadata": {},
   "outputs": [],
   "source": [
    "simulation_result.plot(kind='line', x='time', y='v_o')"
   ]
  },
  {
   "cell_type": "code",
   "execution_count": null,
   "metadata": {},
   "outputs": [],
   "source": [
    "simulation_result.plot(kind='line', x='time', y='i_1')"
   ]
  },
  {
   "cell_type": "code",
   "execution_count": null,
   "metadata": {},
   "outputs": [],
   "source": [
    "simulation_result.plot(kind='line', x='time', y='D')"
   ]
  },
  {
   "cell_type": "markdown",
   "metadata": {},
   "source": [
    "# 7"
   ]
  },
  {
   "cell_type": "code",
   "execution_count": null,
   "metadata": {},
   "outputs": [],
   "source": [
    "system_params['fs'] = [100]"
   ]
  },
  {
   "cell_type": "code",
   "execution_count": null,
   "metadata": {},
   "outputs": [],
   "source": [
    "sim_config = config_sim({\n",
    "    \"N\": 1,\n",
    "    \"T\": range(20000),\n",
    "    \"M\": system_params\n",
    "})\n",
    "\n",
    "del configs[:] # Clear any prior configs\n",
    "experiment = Experiment()\n",
    "experiment.append_configs(\n",
    "    initial_state = initial_state,\n",
    "    partial_state_update_blocks = partial_state_update_blocks,\n",
    "    sim_configs = sim_config\n",
    ")\n",
    "\n",
    "exec_context = ExecutionContext()\n",
    "simulation = Executor(exec_context=exec_context, configs=configs)\n",
    "raw_result, tensor_field, sessions = simulation.execute()"
   ]
  },
  {
   "cell_type": "code",
   "execution_count": null,
   "metadata": {},
   "outputs": [],
   "source": [
    "simulation_result = pd.DataFrame(raw_result)\n",
    "simulation_result['time'] = simulation_result['timestep'] * system_params['step'][0]\n",
    "simulation_result.plot(kind='line', x='time', y='v_o')"
   ]
  },
  {
   "cell_type": "markdown",
   "metadata": {},
   "source": [
    "# 1.b"
   ]
  },
  {
   "cell_type": "code",
   "execution_count": null,
   "metadata": {},
   "outputs": [],
   "source": [
    "def s_duty_cycle_b(params, substep, state_history, previous_state, policy_input):\n",
    "    return 'D', 0.5"
   ]
  },
  {
   "cell_type": "code",
   "execution_count": null,
   "metadata": {},
   "outputs": [],
   "source": [
    "partial_state_update_blocks = [\n",
    "    {\n",
    "        'policies': {},\n",
    "        'variables': {\n",
    "            'D': s_duty_cycle_b,\n",
    "            'i_1': s_i1,\n",
    "            'v_o': s_vo\n",
    "        }\n",
    "    }\n",
    "]\n",
    "\n",
    "del configs[:] # Clear any prior configs\n",
    "experiment = Experiment()\n",
    "experiment.append_configs(\n",
    "    initial_state = initial_state,\n",
    "    partial_state_update_blocks = partial_state_update_blocks,\n",
    "    sim_configs = sim_config\n",
    ")\n",
    "configs[-1].__dict__"
   ]
  },
  {
   "cell_type": "code",
   "execution_count": null,
   "metadata": {},
   "outputs": [],
   "source": [
    "exec_context = ExecutionContext()\n",
    "simulation = Executor(exec_context=exec_context, configs=configs)\n",
    "raw_result, tensor_field, sessions = simulation.execute()"
   ]
  },
  {
   "cell_type": "code",
   "execution_count": null,
   "metadata": {},
   "outputs": [],
   "source": [
    "simulation_result = pd.DataFrame(raw_result)\n",
    "simulation_result['time'] = simulation_result['timestep'] * system_params['step'][0]\n",
    "simulation_result.head()"
   ]
  },
  {
   "cell_type": "code",
   "execution_count": null,
   "metadata": {},
   "outputs": [],
   "source": [
    "simulation_result.plot(kind='line', x='time', y='v_o')"
   ]
  },
  {
   "cell_type": "code",
   "execution_count": null,
   "metadata": {},
   "outputs": [],
   "source": [
    "simulation_result.plot(kind='line', x='time', y='i_1')"
   ]
  },
  {
   "cell_type": "markdown",
   "metadata": {},
   "source": [
    "# 2\n",
    "Com a frequencia os valores tem uma oscilação"
   ]
  },
  {
   "cell_type": "markdown",
   "metadata": {},
   "source": [
    "# 3\n",
    "\n",
    "We know, that:\n",
    "\n",
    "\\begin{equation}\n",
    "\\frac{di_1(t)}{dt}=D(t)\\frac{v_1(t)}{L}-\\frac{v_0(t)}{L}\n",
    "\\end{equation}\n",
    "\n",
    "\\begin{equation}\n",
    "\\frac{dv_0(t)}{dt}=D(t)\\frac{i_1(t)}{C}-\\frac{v_0(t)}{RC}\n",
    "\\end{equation}\n"
   ]
  },
  {
   "cell_type": "markdown",
   "metadata": {},
   "source": [
    "aplicando a transferência nas duas EDOs, temos que:\n",
    "\n",
    "\\begin{equation}\n",
    "sI(s)=D(s)\\frac{v_1}{L}-\\frac{v_0(s)}{L}\n",
    "\\end{equation}\n",
    "\n",
    "ou ainda:\n",
    "\n",
    "\\begin{equation}\n",
    "I(s)=\\frac{D(s)v_1-v_0(s)}{Ls}\n",
    "\\end{equation}\n",
    "\n",
    "na segunda EDO:\n",
    "\n",
    "\\begin{equation}\n",
    "sV_o(s)=\\frac{I(s)}{C}-\\frac{v_0(s)}{RC}\n",
    "\\end{equation}"
   ]
  },
  {
   "cell_type": "markdown",
   "metadata": {},
   "source": [
    "Substituindo, temos que:\n",
    "\n",
    "\\begin{equation}\n",
    "sV_o(s) = \\frac{v_1D(s)-V_o(s)}{CLs} - \\frac{V_o(s)}{RC}\n",
    "\\end{equation}\n",
    "\n",
    "\\begin{equation}\n",
    "sV_o(s) + \\frac{V_o(s)}{CLs} + \\frac{V_o(s)}{RC} = \\frac{v_1D(s)}{CLs}\n",
    "\\end{equation}\n",
    "\n",
    "\\begin{equation}\n",
    "V_o(s) (s + \\frac{V_o(s)}{CLs} + \\frac{V_o(s)}{RC}) = \\frac{v_1D(s)}{CLs}\n",
    "\\end{equation}\n",
    "\n",
    "\\begin{equation}\n",
    "V_o(s) (\\frac{R+Ls+LCs^2R}{CLsR}) = \\frac{v_1D(s)}{CLs}\n",
    "\\end{equation}\n",
    "\n",
    "\\begin{equation}\n",
    "V_o(s) (\\frac{R+Ls+LCs^2R}{R}) = v_1D(s)\n",
    "\\end{equation}\n",
    "\n",
    "\\begin{equation}\n",
    "G(s) = \\frac{V_o(s)}{D(s)} =\\frac{Rv_1}{RLCs^2+sL+R}\n",
    "\\end{equation}\n"
   ]
  },
  {
   "cell_type": "markdown",
   "metadata": {},
   "source": [
    "# 4\n",
    "\n",
    "Podemos rescrever a função acima no formato padrão da função de transferência de segunda ordem:\n",
    "\n",
    "\\begin{equation}\n",
    "G(s) =\\frac{Rv_1}{LCs^2+\\frac{sL}{R}+1}\n",
    "\\end{equation}\n",
    "\n",
    "Dessa forma, temos $\\tau=\\sqrt{LC}$ e para o fator de amortecimento, temos:\n",
    "\\begin{equation}\n",
    "2\\tau\\xi = \\frac{L}{R}\n",
    "\\end{equation}\n",
    "\\begin{equation}\n",
    "\\xi = \\frac{L}{2R\\tau}\n",
    "\\end{equation}\n",
    "\\begin{equation}\n",
    "\\xi = \\frac{\\sqrt{L}}{2R\\sqrt{C}}\n",
    "\\end{equation}"
   ]
  },
  {
   "cell_type": "markdown",
   "metadata": {},
   "source": [
    "Sendo assim, sabemos que a resposta é considerada criticamente amortecida quando $\\xi = 1$. Logo:\n",
    "\n",
    "\\begin{equation}\n",
    "\\xi = \\frac{\\sqrt{L}}{2R\\sqrt{C}}=1\n",
    "\\end{equation}\n",
    "\\begin{equation}\n",
    "R = \\frac{\\sqrt{L}}{2\\xi\\sqrt{C}}\n",
    "\\end{equation}\n",
    "\\begin{equation}\n",
    "R = \\frac{\\sqrt{L}}{2\\sqrt{C}}\n",
    "\\end{equation}"
   ]
  },
  {
   "cell_type": "markdown",
   "metadata": {},
   "source": [
    "# 5"
   ]
  },
  {
   "cell_type": "code",
   "execution_count": null,
   "metadata": {},
   "outputs": [],
   "source": [
    "system_params['R'] = [0.4, 0.559, 0.7]\n",
    "system_params"
   ]
  },
  {
   "cell_type": "code",
   "execution_count": null,
   "metadata": {},
   "outputs": [],
   "source": [
    "sim_config = config_sim({\n",
    "    \"N\": 1,\n",
    "    \"T\": range(20000),\n",
    "    \"M\": system_params\n",
    "})\n",
    "\n",
    "partial_state_update_blocks = [\n",
    "    {\n",
    "        'policies': {},\n",
    "        'variables': {\n",
    "            'D': s_duty_cycle_b,\n",
    "            'i_1': s_i1,\n",
    "            'v_o': s_vo\n",
    "        }\n",
    "    }\n",
    "]\n",
    "\n",
    "del configs[:] # Clear any prior configs\n",
    "experiment = Experiment()\n",
    "experiment.append_configs(\n",
    "    initial_state = initial_state,\n",
    "    partial_state_update_blocks = partial_state_update_blocks,\n",
    "    sim_configs = sim_config\n",
    ")\n",
    "configs[-1].__dict__"
   ]
  },
  {
   "cell_type": "code",
   "execution_count": null,
   "metadata": {},
   "outputs": [],
   "source": [
    "exec_context = ExecutionContext()\n",
    "simulation = Executor(exec_context=exec_context, configs=configs)\n",
    "raw_result, tensor_field, sessions = simulation.execute()"
   ]
  },
  {
   "cell_type": "code",
   "execution_count": null,
   "metadata": {},
   "outputs": [],
   "source": [
    "simulation_result = pd.DataFrame(raw_result)\n",
    "simulation_result['time'] = simulation_result['timestep'] * system_params['step'][0]\n",
    "simulation_result.head()"
   ]
  },
  {
   "cell_type": "code",
   "execution_count": null,
   "metadata": {},
   "outputs": [],
   "source": [
    "simulation_result['R'] = simulation_result['subset']\n",
    "simulation_result['R'].replace({0: 0.4, 1: 0.559, 2:0.7}, inplace=True)\n",
    "simulation_result.plot(kind='line', x='time', y='i_1', color='R')"
   ]
  },
  {
   "cell_type": "markdown",
   "metadata": {},
   "source": [
    "# 9\n",
    "\n",
    "## a e b\n"
   ]
  },
  {
   "cell_type": "code",
   "execution_count": null,
   "metadata": {},
   "outputs": [],
   "source": [
    "system_params['kp'] = [0.1]  #1/V\n",
    "system_params['ki'] = [200]  #1/Vs\n",
    "system_params['kd'] = [0.02] #s/V\n",
    "system_params['N'] = [10**5] #1/V\n",
    "system_params['Vref'] = [0.15]  #V\n",
    "system_params['R'] = [1]\n",
    "\n",
    "system_params"
   ]
  },
  {
   "cell_type": "code",
   "execution_count": null,
   "metadata": {},
   "outputs": [],
   "source": [
    "initial_state = {\n",
    "    'i_1': 3.15660026, #A\n",
    "    'v_o': 0.15, #V\n",
    "    'D': 0.15, #abs\n",
    "    'I': 3.15660026,   #A\n",
    "    'e': 0,\n",
    "    'ui': 0.15,\n",
    "    'ud': 0,\n",
    "    'vref': 0.15\n",
    "}\n",
    "\n",
    "initial_state"
   ]
  },
  {
   "cell_type": "code",
   "execution_count": null,
   "metadata": {},
   "outputs": [],
   "source": [
    "def calculate_e(params, previous_state):\n",
    "    C = params['C']\n",
    "    R = params['R']\n",
    "    step = params['step']\n",
    "    R = previous_state['v_o'] / previous_state['I']\n",
    "    vo = previous_state['v_o'] + step*((previous_state['i_1']/C) - (previous_state['I']/C))\n",
    "    e = previous_state['vref'] - vo\n",
    "    return e\n",
    "\n",
    "def s_vref(params, substep, state_history, previous_state, policy_input):\n",
    "    return 'vref', 0.15\n",
    "\n",
    "def s_I(params, substep, state_history, previous_state, policy_input):\n",
    "    Iph = params['Iphn']\n",
    "    Is = params['Is']\n",
    "    Vt = params['beta'] * params['T']\n",
    "    Rs = params['Rs']\n",
    "    n = params['n']\n",
    "    Rsh = params['Rsh']\n",
    "    v_o = previous_state['v_o']\n",
    "    \n",
    "    def equation(vars):\n",
    "        I = vars\n",
    "        eq = I - Iph + Is*(np.exp((v_o + I*Rs)/(n*Vt)) - 1) + (v_o + (I*Rs))/Rsh\n",
    "        return eq\n",
    "    \n",
    "    return 'I', fsolve(equation, previous_state['I'], xtol=1e-6)[0]\n",
    "\n",
    "def s_vo(params, substep, state_history, previous_state, policy_input):\n",
    "    C = params['C']\n",
    "    R = params['R']\n",
    "    step = params['step']\n",
    "    R = previous_state['v_o'] / previous_state['I']\n",
    "    vo = previous_state['v_o'] + step*((previous_state['i_1']/C) - (previous_state['I']/C))\n",
    "    return 'v_o', vo\n",
    "\n",
    "def s_e(params, substep, state_history, previous_state, policy_input):\n",
    "    e = calculate_e(params, previous_state)\n",
    "    return 'e', e\n",
    "\n",
    "def s_control_ui(params, substep, state_history, previous_state, policy_input):\n",
    "    ui = previous_state['ui']+(params['step']*params['ki']*previous_state['e'])\n",
    "    \n",
    "    if ui>1:\n",
    "        ui=1\n",
    "    \n",
    "    elif ui < 0:\n",
    "        ui=0\n",
    "    return 'ui', ui\n",
    "\n",
    "def s_control_ud(params, substep, state_history, previous_state, policy_input):\n",
    "    e = calculate_e(params, previous_state)\n",
    "    kd = params['kd']\n",
    "    N = params['N']\n",
    "    step = params['step']\n",
    "    \n",
    "    return 'ud', (previous_state['ud']*(1-(N*step))) + (kd*N*(e-previous_state['e']))\n",
    "\n",
    "\n",
    "def s_control_D(params, substep, state_history, previous_state, policy_input):\n",
    "    kd = params['kd']\n",
    "    N = params['N']\n",
    "    step = params['step']\n",
    "    e = calculate_e(params, previous_state)\n",
    "    \n",
    "    up = params['kp'] * e\n",
    "    \n",
    "    ui = previous_state['ui']+(params['step']*params['ki']*previous_state['e'])\n",
    "    \n",
    "    ud = (previous_state['ud']*(1-(N*step))) + (kd*N*(e-previous_state['e']))\n",
    "    \n",
    "    d = up+ui+ud\n",
    "    if d > 1:\n",
    "        d = 1\n",
    "        \n",
    "    elif d < 0:\n",
    "        d = 0\n",
    "    return 'D', d\n",
    "    "
   ]
  },
  {
   "cell_type": "code",
   "execution_count": null,
   "metadata": {},
   "outputs": [],
   "source": [
    "partial_state_update_blocks = [\n",
    "    {\n",
    "        'policies': {},\n",
    "        'variables': {\n",
    "            'D': s_control_D,\n",
    "            'i_1': s_i1,\n",
    "            'v_o': s_vo,\n",
    "            'I': s_I,\n",
    "            'e': s_e,\n",
    "            'ui': s_control_ui,\n",
    "            'ud': s_control_ud,\n",
    "            'vref': s_vref\n",
    "        }\n",
    "    }\n",
    "]"
   ]
  },
  {
   "cell_type": "code",
   "execution_count": null,
   "metadata": {},
   "outputs": [],
   "source": [
    "sim_config = config_sim({\n",
    "    \"N\": 1,\n",
    "    \"T\": range(300000),\n",
    "    \"M\": system_params\n",
    "})\n",
    "\n",
    "del configs[:] # Clear any prior configs\n",
    "experiment = Experiment()\n",
    "experiment.append_configs(\n",
    "    initial_state = initial_state,\n",
    "    partial_state_update_blocks = partial_state_update_blocks,\n",
    "    sim_configs = sim_config\n",
    ")\n",
    "configs[-1].__dict__"
   ]
  },
  {
   "cell_type": "code",
   "execution_count": null,
   "metadata": {},
   "outputs": [],
   "source": [
    "exec_context = ExecutionContext()\n",
    "simulation = Executor(exec_context=exec_context, configs=configs)\n",
    "raw_result, tensor_field, sessions = simulation.execute()"
   ]
  },
  {
   "cell_type": "code",
   "execution_count": null,
   "metadata": {},
   "outputs": [],
   "source": [
    "simulation_result = pd.DataFrame(raw_result)\n",
    "simulation_result.head()"
   ]
  },
  {
   "cell_type": "code",
   "execution_count": null,
   "metadata": {},
   "outputs": [],
   "source": [
    "simulation_result.plot(kind='line', x='timestep', y='v_o')"
   ]
  },
  {
   "cell_type": "markdown",
   "metadata": {},
   "source": [
    "## c"
   ]
  },
  {
   "cell_type": "code",
   "execution_count": null,
   "metadata": {},
   "outputs": [],
   "source": [
    "system_params['step'] = [0.000005]\n",
    "system_params"
   ]
  },
  {
   "cell_type": "code",
   "execution_count": null,
   "metadata": {},
   "outputs": [],
   "source": [
    "def s_vref(params, substep, state_history, previous_state, policy_input):\n",
    "    steps = (previous_state['timestep']+1)*params['step'] // 0.3\n",
    "    vref = 0.15 + steps*0.03\n",
    "    if vref > 0.42:\n",
    "        vref = 0.42\n",
    "    return 'vref', vref"
   ]
  },
  {
   "cell_type": "code",
   "execution_count": null,
   "metadata": {},
   "outputs": [],
   "source": [
    "partial_state_update_blocks = [\n",
    "    {\n",
    "        'policies': {},\n",
    "        'variables': {\n",
    "            'D': s_control_D,\n",
    "            'i_1': s_i1,\n",
    "            'v_o': s_vo,\n",
    "            'I': s_I,\n",
    "            'e': s_e,\n",
    "            'ui': s_control_ui,\n",
    "            'ud': s_control_ud,\n",
    "            'vref': s_vref\n",
    "        }\n",
    "    }\n",
    "]"
   ]
  },
  {
   "cell_type": "code",
   "execution_count": null,
   "metadata": {},
   "outputs": [],
   "source": [
    "sim_config = config_sim({\n",
    "    \"N\": 1,\n",
    "    \"T\": range(600000),\n",
    "    \"M\": system_params\n",
    "})\n",
    "\n",
    "del configs[:] # Clear any prior configs\n",
    "experiment = Experiment()\n",
    "experiment.append_configs(\n",
    "    initial_state = initial_state,\n",
    "    partial_state_update_blocks = partial_state_update_blocks,\n",
    "    sim_configs = sim_config\n",
    ")\n",
    "configs[-1].__dict__"
   ]
  },
  {
   "cell_type": "code",
   "execution_count": null,
   "metadata": {},
   "outputs": [],
   "source": [
    "exec_context = ExecutionContext()\n",
    "simulation = Executor(exec_context=exec_context, configs=configs)\n",
    "raw_result, tensor_field, sessions = simulation.execute()"
   ]
  },
  {
   "cell_type": "code",
   "execution_count": null,
   "metadata": {},
   "outputs": [],
   "source": [
    "simulation_result = pd.DataFrame(raw_result)\n",
    "simulation_result['time'] = simulation_result['timestep'] * system_params['step'][0]\n",
    "simulation_result['R'] = simulation_result['v_o'] / simulation_result['I']\n",
    "simulation_result['P'] = simulation_result['v_o'] * simulation_result['I']\n",
    "simulation_result.head()"
   ]
  },
  {
   "cell_type": "code",
   "execution_count": null,
   "metadata": {},
   "outputs": [],
   "source": [
    "simulation_result.plot(kind='line', x='time', y='v_o')"
   ]
  },
  {
   "cell_type": "code",
   "execution_count": null,
   "metadata": {},
   "outputs": [],
   "source": [
    "simulation_result.plot(kind='line', x='time', y='vref')"
   ]
  },
  {
   "cell_type": "code",
   "execution_count": null,
   "metadata": {},
   "outputs": [],
   "source": [
    "simulation_result.plot(kind='line', x='time', y='I')"
   ]
  },
  {
   "cell_type": "code",
   "execution_count": null,
   "metadata": {},
   "outputs": [],
   "source": [
    "simulation_result.plot(kind='line', x='time', y='i_1')"
   ]
  },
  {
   "cell_type": "code",
   "execution_count": null,
   "metadata": {},
   "outputs": [],
   "source": [
    "simulation_result.plot(kind='line', x='time', y='R')"
   ]
  },
  {
   "cell_type": "code",
   "execution_count": null,
   "metadata": {},
   "outputs": [],
   "source": [
    "simulation_result.plot(kind='line', x='time', y='P')"
   ]
  },
  {
   "cell_type": "code",
   "execution_count": null,
   "metadata": {},
   "outputs": [],
   "source": [
    "simulation_result.plot(kind='line', x='time', y='D')"
   ]
  },
  {
   "cell_type": "code",
   "execution_count": null,
   "metadata": {},
   "outputs": [],
   "source": []
  }
 ],
 "metadata": {
  "kernelspec": {
   "display_name": "Python 3",
   "language": "python",
   "name": "python3"
  },
  "language_info": {
   "codemirror_mode": {
    "name": "ipython",
    "version": 3
   },
   "file_extension": ".py",
   "mimetype": "text/x-python",
   "name": "python",
   "nbconvert_exporter": "python",
   "pygments_lexer": "ipython3",
   "version": "3.7.9"
  }
 },
 "nbformat": 4,
 "nbformat_minor": 4
}
